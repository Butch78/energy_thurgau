{
 "cells": [
  {
   "cell_type": "code",
   "execution_count": 1,
   "metadata": {},
   "outputs": [
    {
     "name": "stdout",
     "output_type": "stream",
     "text": [
      "shape: (5, 14)\n",
      "┌──────┬───────────┬─────────────┬─────────────┬───┬──────────┬─────────────┬────────┬─────────────┐\n",
      "│ jahr ┆ einwohner ┆ energiebezu ┆ erdoelbrenn ┆ … ┆ abwaerme ┆ biogas_biom ┆ andere ┆ total       │\n",
      "│ ---  ┆ ---       ┆ gsflaeche   ┆ stoffe      ┆   ┆ ---      ┆ asse        ┆ ---    ┆ ---         │\n",
      "│ str  ┆ i64       ┆ ---         ┆ ---         ┆   ┆ f64      ┆ ---         ┆ f64    ┆ f64         │\n",
      "│      ┆           ┆ i64         ┆ f64         ┆   ┆          ┆ f64         ┆        ┆             │\n",
      "╞══════╪═══════════╪═════════════╪═════════════╪═══╪══════════╪═════════════╪════════╪═════════════╡\n",
      "│ 2022 ┆ 288846    ┆ 28175471    ┆ 1084.826    ┆ … ┆ 178.779  ┆ 33.284532   ┆ 11.125 ┆ 7233.350469 │\n",
      "│ 2021 ┆ 285212    ┆ 27497862    ┆ 1224.299    ┆ … ┆ 170.831  ┆ 48.503205   ┆ 10.165 ┆ 7908.234857 │\n",
      "│ 2020 ┆ 282080    ┆ 27167765    ┆ 1041.918    ┆ … ┆ 182.609  ┆ 47.166166   ┆ 10.456 ┆ 7400.80494  │\n",
      "│ 2019 ┆ 278727    ┆ 26773176    ┆ 1110.75     ┆ … ┆ 192.863  ┆ 43.198331   ┆ 9.955  ┆ 7675.185279 │\n",
      "│ 2018 ┆ 275488    ┆ 26437486    ┆ 1073.485    ┆ … ┆ 203.549  ┆ 39.441082   ┆ 8.508  ┆ 7517.663978 │\n",
      "└──────┴───────────┴─────────────┴─────────────┴───┴──────────┴─────────────┴────────┴─────────────┘\n"
     ]
    }
   ],
   "source": [
    "import polars as pl\n",
    "\n",
    "df = pl.read_parquet(\"data/div-energie-3.parquet\")\n",
    "\n",
    "print(df.head())"
   ]
  }
 ],
 "metadata": {
  "kernelspec": {
   "display_name": "Python 3",
   "language": "python",
   "name": "python3"
  },
  "language_info": {
   "codemirror_mode": {
    "name": "ipython",
    "version": 3
   },
   "file_extension": ".py",
   "mimetype": "text/x-python",
   "name": "python",
   "nbconvert_exporter": "python",
   "pygments_lexer": "ipython3",
   "version": "3.11.9"
  }
 },
 "nbformat": 4,
 "nbformat_minor": 2
}
